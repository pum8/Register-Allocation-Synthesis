{
 "cells": [
  {
   "cell_type": "code",
   "execution_count": 13,
   "id": "6bf5eefb",
   "metadata": {},
   "outputs": [
    {
     "ename": "AttributeError",
     "evalue": "module 'GraphGenerator' has no attribute 'Graph'",
     "output_type": "error",
     "traceback": [
      "\u001b[1;31m---------------------------------------------------------------------------\u001b[0m",
      "\u001b[1;31mAttributeError\u001b[0m                            Traceback (most recent call last)",
      "Cell \u001b[1;32mIn[13], line 5\u001b[0m\n\u001b[0;32m      1\u001b[0m \u001b[38;5;28;01mfrom\u001b[39;00m \u001b[38;5;21;01mGraphGenerator\u001b[39;00m \u001b[38;5;28;01mimport\u001b[39;00m \u001b[38;5;241m*\u001b[39m\n\u001b[0;32m      2\u001b[0m \u001b[38;5;28;01mimport\u001b[39;00m \u001b[38;5;21;01mProgramGenerator\u001b[39;00m\n\u001b[1;32m----> 5\u001b[0m graph \u001b[38;5;241m=\u001b[39m \u001b[43mGraphGenerator\u001b[49m\u001b[38;5;241;43m.\u001b[39;49m\u001b[43mGraph\u001b[49m()\n\u001b[0;32m      7\u001b[0m \u001b[38;5;66;03m#programs = ProgramGenerator.randomSplitGenerator(20,graph.V)\u001b[39;00m\n",
      "\u001b[1;31mAttributeError\u001b[0m: module 'GraphGenerator' has no attribute 'Graph'"
     ]
    }
   ],
   "source": [
    "import GraphGenerator\n",
    "import ProgramGenerator\n",
    "\n",
    "\n",
    "graph = GraphGenerator.Graph()\n",
    "\n",
    "#programs = ProgramGenerator.randomSplitGenerator(20,graph.V)"
   ]
  },
  {
   "cell_type": "code",
   "execution_count": 14,
   "id": "223e3dbd",
   "metadata": {},
   "outputs": [
    {
     "ename": "TypeError",
     "evalue": "'module' object is not callable",
     "output_type": "error",
     "traceback": [
      "\u001b[1;31m---------------------------------------------------------------------------\u001b[0m",
      "\u001b[1;31mTypeError\u001b[0m                                 Traceback (most recent call last)",
      "Cell \u001b[1;32mIn[14], line 2\u001b[0m\n\u001b[0;32m      1\u001b[0m \u001b[38;5;66;03m# Example usage of the class\u001b[39;00m\n\u001b[1;32m----> 2\u001b[0m graph_operations \u001b[38;5;241m=\u001b[39m \u001b[43mGraphGenerator\u001b[49m\u001b[43m(\u001b[49m\u001b[43m)\u001b[49m\n",
      "\u001b[1;31mTypeError\u001b[0m: 'module' object is not callable"
     ]
    }
   ],
   "source": [
    "\n",
    "# Example usage of the class\n",
    "graph_operations = GraphGenerator()\n"
   ]
  },
  {
   "cell_type": "code",
   "execution_count": null,
   "id": "8694bf9b",
   "metadata": {},
   "outputs": [],
   "source": []
  }
 ],
 "metadata": {
  "kernelspec": {
   "display_name": "Python 3 (ipykernel)",
   "language": "python",
   "name": "python3"
  },
  "language_info": {
   "codemirror_mode": {
    "name": "ipython",
    "version": 3
   },
   "file_extension": ".py",
   "mimetype": "text/x-python",
   "name": "python",
   "nbconvert_exporter": "python",
   "pygments_lexer": "ipython3",
   "version": "3.10.10"
  }
 },
 "nbformat": 4,
 "nbformat_minor": 5
}
