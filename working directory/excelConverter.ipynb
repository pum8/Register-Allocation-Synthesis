{
 "cells": [
  {
   "cell_type": "code",
   "execution_count": 5,
   "id": "2f7e3519",
   "metadata": {},
   "outputs": [],
   "source": [
    "import re\n",
    "import openpyxl\n",
    "\n",
    "with open('input.txt', 'r') as file:\n",
    "    text = file.read()\n",
    "\n",
    "genome_counter_pattern = re.compile(r\"genome Counter\\s+(\\d+)\")\n",
    "fitness_score_pattern = re.compile(r\"This is max FT:\\s+([\\d.]+)\")\n",
    "\n",
    "genome_counters = []\n",
    "fitness_scores = []\n",
    "\n",
    "for match in genome_counter_pattern.finditer(text):\n",
    "    genome_counters.append(int(match.group(1)))\n",
    "\n",
    "for match in fitness_score_pattern.finditer(text):\n",
    "    fitness_scores.append(float(match.group(1)))\n",
    "\n",
    "wb = openpyxl.Workbook()\n",
    "ws = wb.active\n",
    "ws.title = \"Genome Data\"\n",
    "ws.cell(row=1, column=1, value=\"Genome Counter\")\n",
    "ws.cell(row=1, column=2, value=\"Fitness Score\")\n",
    "\n",
    "for i, (counter, score) in enumerate(zip(genome_counters, fitness_scores), start=2):\n",
    "    ws.cell(row=i, column=1, value=counter)\n",
    "    ws.cell(row=i, column=2, value=score)\n",
    "\n",
    "wb.save(\"genome_data.xlsx\")"
   ]
  },
  {
   "cell_type": "code",
   "execution_count": null,
   "id": "3063e7a8",
   "metadata": {},
   "outputs": [],
   "source": []
  }
 ],
 "metadata": {
  "kernelspec": {
   "display_name": "Python 3 (ipykernel)",
   "language": "python",
   "name": "python3"
  },
  "language_info": {
   "codemirror_mode": {
    "name": "ipython",
    "version": 3
   },
   "file_extension": ".py",
   "mimetype": "text/x-python",
   "name": "python",
   "nbconvert_exporter": "python",
   "pygments_lexer": "ipython3",
   "version": "3.10.10"
  }
 },
 "nbformat": 4,
 "nbformat_minor": 5
}
